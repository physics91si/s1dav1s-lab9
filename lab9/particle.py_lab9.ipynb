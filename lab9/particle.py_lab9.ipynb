{
 "cells": [
  {
   "cell_type": "markdown",
   "metadata": {},
   "source": [
    "# Lab 9"
   ]
  },
  {
   "cell_type": "markdown",
   "metadata": {},
   "source": [
    "## Part 0: Docstrings"
   ]
  },
  {
   "cell_type": "code",
   "execution_count": 34,
   "metadata": {
    "collapsed": true
   },
   "outputs": [],
   "source": [
    "#Particles\n",
    "\n",
    "import numpy as np\n",
    "\n",
    "class Particle:\n",
    "    \"\"\"Stores information about a particle with mass, position, and velocity.\"\"\"\n",
    "    \n",
    "    def __init__(self, Position, M):\n",
    "        \"\"\"Create a particle with position (numpy array of len 2) and mass.\"\"\"\n",
    "        self.pos = Position   # Sets x position\n",
    "        self.m = M  # Sets mass\n",
    "        # Initial velocity and acceleration set to be zero\n",
    "        self.vel = np.zeros((2,))\n",
    "        self.acc = np.zeros((2,))\n"
   ]
  },
  {
   "cell_type": "code",
   "execution_count": 35,
   "metadata": {
    "collapsed": true
   },
   "outputs": [],
   "source": [
    "Particle?"
   ]
  },
  {
   "cell_type": "code",
   "execution_count": 36,
   "metadata": {
    "collapsed": false
   },
   "outputs": [],
   "source": [
    "import particle\n",
    "class Molecule:\n",
    "    \n",
    "    def _init_(self, pos1, pos2, M1, M2, k, L0):\n",
    "        self.k=k\n",
    "        self.p1=Particle(pos1, M1)\n",
    "        self.p2=Particle(pos2, M2)\n",
    "        self.L0=L0\n",
    "    def get_disp1(self):\n",
    "        return p2.Position-p1.Position\n",
    "    \n",
    "    def get_force(self):\n",
    "        \"\"\"Returns the value of the force between the two particles of the molecule.\"\"\"\n",
    "        pass\n",
    "        posVector = get_displ()\n",
    "        dist = math.sqrt(posVector[0]**2 + posVector[1]**2)\n",
    "        return -k*(get_displ()-L0)\n"
   ]
  },
  {
   "cell_type": "code",
   "execution_count": 37,
   "metadata": {
    "collapsed": true
   },
   "outputs": [],
   "source": [
    "Molecule.get_force?"
   ]
  },
  {
   "cell_type": "markdown",
   "metadata": {},
   "source": [
    "## Part 1: Testing Numerical Code, Finding Errors, and Fixing Bugs"
   ]
  },
  {
   "cell_type": "code",
   "execution_count": 80,
   "metadata": {
    "collapsed": false
   },
   "outputs": [
    {
     "ename": "ValueError",
     "evalue": "invalid literal for int() with base 10: '-f'",
     "output_type": "error",
     "traceback": [
      "\u001b[0;31m---------------------------------------------------------------------------\u001b[0m",
      "\u001b[0;31mValueError\u001b[0m                                Traceback (most recent call last)",
      "\u001b[0;32m<ipython-input-80-54d86f275d05>\u001b[0m in \u001b[0;36m<module>\u001b[0;34m()\u001b[0m\n\u001b[1;32m     24\u001b[0m \u001b[0;34m\u001b[0m\u001b[0m\n\u001b[1;32m     25\u001b[0m \u001b[0;32mif\u001b[0m \u001b[0m__name__\u001b[0m\u001b[0;34m==\u001b[0m\u001b[0;34m\"__main__\"\u001b[0m\u001b[0;34m:\u001b[0m\u001b[0;34m\u001b[0m\u001b[0m\n\u001b[0;32m---> 26\u001b[0;31m         \u001b[0mmain\u001b[0m\u001b[0;34m(\u001b[0m\u001b[0;34m)\u001b[0m\u001b[0;34m\u001b[0m\u001b[0m\n\u001b[0m",
      "\u001b[0;32m<ipython-input-80-54d86f275d05>\u001b[0m in \u001b[0;36mmain\u001b[0;34m()\u001b[0m\n\u001b[1;32m      7\u001b[0m \u001b[0;31m#e.g. run: >python quadratic.py 1 2 -15\u001b[0m\u001b[0;34m\u001b[0m\u001b[0;34m\u001b[0m\u001b[0m\n\u001b[1;32m      8\u001b[0m \u001b[0;32mdef\u001b[0m \u001b[0mmain\u001b[0m\u001b[0;34m(\u001b[0m\u001b[0;34m)\u001b[0m\u001b[0;34m:\u001b[0m\u001b[0;34m\u001b[0m\u001b[0m\n\u001b[0;32m----> 9\u001b[0;31m     \u001b[0ma\u001b[0m \u001b[0;34m=\u001b[0m \u001b[0mint\u001b[0m \u001b[0;34m(\u001b[0m\u001b[0msys\u001b[0m\u001b[0;34m.\u001b[0m\u001b[0margv\u001b[0m\u001b[0;34m[\u001b[0m\u001b[0;36m1\u001b[0m\u001b[0;34m]\u001b[0m\u001b[0;34m)\u001b[0m\u001b[0;34m\u001b[0m\u001b[0m\n\u001b[0m\u001b[1;32m     10\u001b[0m     \u001b[0mb\u001b[0m \u001b[0;34m=\u001b[0m \u001b[0mint\u001b[0m \u001b[0;34m(\u001b[0m\u001b[0msys\u001b[0m\u001b[0;34m.\u001b[0m\u001b[0margv\u001b[0m\u001b[0;34m[\u001b[0m\u001b[0;36m2\u001b[0m\u001b[0;34m]\u001b[0m\u001b[0;34m)\u001b[0m\u001b[0;34m\u001b[0m\u001b[0m\n\u001b[1;32m     11\u001b[0m     \u001b[0mc\u001b[0m \u001b[0;34m=\u001b[0m \u001b[0mint\u001b[0m \u001b[0;34m(\u001b[0m\u001b[0msys\u001b[0m\u001b[0;34m.\u001b[0m\u001b[0margv\u001b[0m\u001b[0;34m[\u001b[0m\u001b[0;36m3\u001b[0m\u001b[0;34m]\u001b[0m\u001b[0;34m)\u001b[0m\u001b[0;34m\u001b[0m\u001b[0m\n",
      "\u001b[0;31mValueError\u001b[0m: invalid literal for int() with base 10: '-f'"
     ]
    }
   ],
   "source": [
    "#!/usr/bin/python\n",
    "import sys\n",
    "\n",
    "#Python script that returns the roots of a quadratic equation\n",
    "#of the form a*x^2 + b*x + c = 0\n",
    "#Enter values for a, b, and c in the command line\n",
    "#e.g. run: >python quadratic.py 1 2 -15\n",
    "def main():\n",
    "    a = int (sys.argv[1])\n",
    "    b = int (sys.argv[2])\n",
    "    c = int (sys.argv[3])\n",
    "    x1, x2 = find_roots(a, b, c)\n",
    "    print (\"This is x1: %f\" %x1)\n",
    "    print (\"This is x2: %f\" %x2)\n",
    "\n",
    "\n",
    "def find_roots(a,b,c):\n",
    "    mid = b**2 - 4*a*c\n",
    "    sqrt_mid = sqrt(mid)\n",
    "    x1 = (-b + sqrt_mid)/(2*a)\n",
    "    x2 = (-b - sqrt_mid)/(2*a)\n",
    "    return x1, x2\n",
    "\n",
    "\n",
    "if __name__==\"__main__\":\n",
    "        main()\n"
   ]
  },
  {
   "cell_type": "code",
   "execution_count": 91,
   "metadata": {
    "collapsed": false
   },
   "outputs": [
    {
     "name": "stdout",
     "output_type": "stream",
     "text": [
      "3.0 -5.0\n"
     ]
    }
   ],
   "source": [
    "import quadratic\n",
    "import importlib as imp\n",
    "reload(quadratic)\n",
    "root1, root2 = quadratic.find_roots(1, 2,-15)\n",
    "print root1, root2\n"
   ]
  },
  {
   "cell_type": "code",
   "execution_count": 92,
   "metadata": {
    "collapsed": false
   },
   "outputs": [
    {
     "name": "stdout",
     "output_type": "stream",
     "text": [
      "-2.0 -2.0\n"
     ]
    }
   ],
   "source": [
    "root1, root2 = quadratic.find_roots(1, 4, 4)\n",
    "print root1, root2"
   ]
  },
  {
   "cell_type": "code",
   "execution_count": 96,
   "metadata": {
    "collapsed": false
   },
   "outputs": [
    {
     "name": "stdout",
     "output_type": "stream",
     "text": [
      "0.828427124746 -4.82842712475\n"
     ]
    }
   ],
   "source": [
    "root1, root2 = quadratic.find_roots(1, 4, -4)\n",
    "print root1, root2"
   ]
  },
  {
   "cell_type": "code",
   "execution_count": 97,
   "metadata": {
    "collapsed": false
   },
   "outputs": [
    {
     "name": "stdout",
     "output_type": "stream",
     "text": [
      "1.41421356237 -1.41421356237\n"
     ]
    }
   ],
   "source": [
    "root1, root2 = quadratic.find_roots(2, 0, -4)\n",
    "print root1, root2"
   ]
  },
  {
   "cell_type": "markdown",
   "metadata": {
    "collapsed": true
   },
   "source": [
    "## Part 2: Catching Expressions"
   ]
  },
  {
   "cell_type": "code",
   "execution_count": 114,
   "metadata": {
    "collapsed": false
   },
   "outputs": [
    {
     "name": "stdout",
     "output_type": "stream",
     "text": [
      "Non-numerical input\r\n"
     ]
    }
   ],
   "source": [
    "reload(quadratic)\n",
    "#Case 1: Non-numerical input\n",
    "#Run in Terminal\n",
    "!python quadratic.py physics 91si is the best"
   ]
  },
  {
   "cell_type": "code",
   "execution_count": 112,
   "metadata": {
    "collapsed": false
   },
   "outputs": [
    {
     "name": "stdout",
     "output_type": "stream",
     "text": [
      "Imaginary roots\r\n"
     ]
    }
   ],
   "source": [
    "#Case 2: Imaginary Roots\n",
    "#Run in Terminal:\n",
    "!python quadratic.py 1 0 4"
   ]
  },
  {
   "cell_type": "code",
   "execution_count": 113,
   "metadata": {
    "collapsed": false
   },
   "outputs": [
    {
     "name": "stdout",
     "output_type": "stream",
     "text": [
      "a=0\r\n"
     ]
    }
   ],
   "source": [
    "#Case 3: Zero Leading Coefficient\n",
    "#Run in Terminal:\n",
    "!python quadratic.py 0 0 4"
   ]
  },
  {
   "cell_type": "code",
   "execution_count": null,
   "metadata": {
    "collapsed": true
   },
   "outputs": [],
   "source": []
  }
 ],
 "metadata": {
  "kernelspec": {
   "display_name": "Python 2",
   "language": "python",
   "name": "python2"
  },
  "language_info": {
   "codemirror_mode": {
    "name": "ipython",
    "version": 2
   },
   "file_extension": ".py",
   "mimetype": "text/x-python",
   "name": "python",
   "nbconvert_exporter": "python",
   "pygments_lexer": "ipython2",
   "version": "2.7.11"
  }
 },
 "nbformat": 4,
 "nbformat_minor": 0
}
